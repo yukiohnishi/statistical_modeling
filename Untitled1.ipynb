{
 "cells": [
  {
   "cell_type": "code",
   "execution_count": 1,
   "metadata": {
    "collapsed": true
   },
   "outputs": [],
   "source": [
    "import pandas as pd\n",
    "import numpy as np\n",
    "import matplotlib.pyplot as plt\n",
    "import pystan\n",
    "import seaborn as sns\n",
    "%matplotlib inline"
   ]
  },
  {
   "cell_type": "code",
   "execution_count": 4,
   "metadata": {
    "collapsed": true
   },
   "outputs": [],
   "source": [
    "r = np.array([10,23,23,26,17,5,53,55,32,46,10,8,10,8,23,0,3,22,15,32,3])\n",
    "n = np.array([39,62,81,51,39,6,74,72,51,79,13,16,30,28,45,4,12,41,30,51,7])\n",
    "x1 = np.array([0, 0, 0, 0, 0, 0, 0, 0, 0, 0, 0, 1, 1, 1, 1, 1, 1, 1, 1, 1, 1])\n",
    "x2 = np.array([0, 0, 0, 0, 0, 1, 1, 1, 1, 1, 1, 0, 0, 0, 0, 0, 1, 1, 1, 1, 1])\n",
    "stan_data = {'N':21, 'r':r, 'n':n, 'x1':x1, 'x2':x2}"
   ]
  },
  {
   "cell_type": "code",
   "execution_count": 18,
   "metadata": {
    "collapsed": false
   },
   "outputs": [],
   "source": [
    "fit = pystan.stan(file='seeds.stan', data=stan_data, iter=10000, chains=3, thin=1)"
   ]
  },
  {
   "cell_type": "code",
   "execution_count": 19,
   "metadata": {
    "collapsed": false
   },
   "outputs": [
    {
     "data": {
      "text/plain": [
       "Inference for Stan model: anon_model_a454f969aec58d66985f346d662df95f.\n",
       "3 chains, each with iter=10000; warmup=5000; thin=1; \n",
       "post-warmup draws per chain=5000, total post-warmup draws=15000.\n",
       "\n",
       "          mean se_mean     sd   2.5%    25%    50%    75%  97.5%  n_eff   Rhat\n",
       "alpha0   -0.55  3.7e-3   0.19  -0.94  -0.67  -0.55  -0.43  -0.16   2779    1.0\n",
       "alpha1    0.08  6.0e-3   0.31  -0.55  -0.12   0.08   0.28   0.67   2698    1.0\n",
       "alpha12  -0.82  8.5e-3   0.44   -1.7   -1.1  -0.82  -0.54   0.03   2639    1.0\n",
       "alpha2    1.36  5.3e-3   0.28   0.83   1.18   1.35   1.52   1.94   2756    1.0\n",
       "tau      47.28    7.97 114.91   2.82   7.14  13.01  29.79 389.99    208   1.01\n",
       "b[0]      -0.2  5.7e-3   0.26   -0.8  -0.34  -0.16  -0.02   0.23   2041    1.0\n",
       "b[1]    7.6e-3  3.5e-3   0.22  -0.45  -0.12 7.7e-3   0.13   0.46   3966    1.0\n",
       "b[2]      -0.2  5.1e-3   0.23  -0.72  -0.34  -0.17  -0.04    0.2   2110    1.0\n",
       "b[3]      0.27  6.8e-3   0.26  -0.14   0.07   0.24   0.43   0.86   1477    1.0\n",
       "b[4]      0.12  4.2e-3   0.24  -0.32  -0.03   0.09   0.25   0.67   3268    1.0\n",
       "b[5]      0.07  4.7e-3    0.3  -0.51  -0.09   0.04   0.23   0.76   4261    1.0\n",
       "b[6]      0.06  3.5e-3   0.22  -0.39  -0.07   0.05   0.18   0.54   4154    1.0\n",
       "b[7]      0.18  4.6e-3   0.23  -0.23   0.02   0.15   0.32    0.7   2581    1.0\n",
       "b[8]     -0.13  4.3e-3   0.24  -0.68  -0.26   -0.1   0.02    0.3   3179    1.0\n",
       "b[9]     -0.26  6.9e-3   0.25  -0.82  -0.41  -0.23  -0.08   0.13   1281    1.0\n",
       "b[10]     0.07  4.3e-3   0.28  -0.46  -0.08   0.05   0.22   0.71   4130    1.0\n",
       "b[11]     0.12  4.8e-3   0.28  -0.38  -0.05   0.08   0.27   0.77   3355    1.0\n",
       "b[12]    -0.07  3.7e-3   0.25  -0.61  -0.21  -0.05   0.07   0.41   4449    1.0\n",
       "b[13]    -0.14  4.4e-3   0.26  -0.73  -0.29   -0.1   0.02   0.34   3436    1.0\n",
       "b[14]     0.24  7.0e-3   0.27  -0.21   0.04   0.19    0.4   0.87   1507    1.0\n",
       "b[15]    -0.13  5.3e-3   0.32  -0.88  -0.29  -0.08   0.05   0.42   3500    1.0\n",
       "b[16]    -0.22  6.5e-3   0.31  -0.95  -0.38  -0.16-7.8e-3   0.28   2240    1.0\n",
       "b[17]     0.05  3.9e-3   0.24  -0.43  -0.09   0.03   0.18   0.57   3887    1.0\n",
       "b[18]    -0.01  3.6e-3   0.24  -0.52  -0.15-9.3e-3   0.12    0.5   4580    1.0\n",
       "b[19]     0.22  6.6e-3   0.26   -0.2   0.03   0.18   0.38   0.83   1584    1.0\n",
       "b[20]    -0.04  4.1e-3   0.29  -0.68   -0.2  -0.03   0.11   0.53   5001    1.0\n",
       "sigma     0.29  6.2e-3   0.14   0.05   0.18   0.28   0.37    0.6    530    1.0\n",
       "lp__    -520.0     0.6  10.58 -535.9 -527.0 -521.9 -515.5 -491.7    310    1.0\n",
       "\n",
       "Samples were drawn using NUTS(diag_e) at Tue Sep 27 00:40:34 2016.\n",
       "For each parameter, n_eff is a crude measure of effective sample size,\n",
       "and Rhat is the potential scale reduction factor on split chains (at \n",
       "convergence, Rhat=1)."
      ]
     },
     "execution_count": 19,
     "metadata": {},
     "output_type": "execute_result"
    }
   ],
   "source": [
    "fit"
   ]
  },
  {
   "cell_type": "code",
   "execution_count": null,
   "metadata": {
    "collapsed": true
   },
   "outputs": [],
   "source": []
  }
 ],
 "metadata": {
  "kernelspec": {
   "display_name": "Python 3",
   "language": "python",
   "name": "python3"
  },
  "language_info": {
   "codemirror_mode": {
    "name": "ipython",
    "version": 3
   },
   "file_extension": ".py",
   "mimetype": "text/x-python",
   "name": "python",
   "nbconvert_exporter": "python",
   "pygments_lexer": "ipython3",
   "version": "3.5.0"
  }
 },
 "nbformat": 4,
 "nbformat_minor": 0
}
