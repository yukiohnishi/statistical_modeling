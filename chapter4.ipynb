{
 "cells": [
  {
   "cell_type": "code",
   "execution_count": 28,
   "metadata": {
    "collapsed": true
   },
   "outputs": [],
   "source": [
    "import numpy as np\n",
    "import pandas as pd\n",
    "import matplotlib.pyplot as plt\n",
    "from patsy import dmatrices, dmatrix\n",
    "from statsmodels.api import GLM\n",
    "from statsmodels.genmod.families.family import Poisson\n",
    "from scipy.stats import poisson\n",
    "%matplotlib inline\n",
    "plt.style.use('ggplot')"
   ]
  },
  {
   "cell_type": "code",
   "execution_count": 2,
   "metadata": {
    "collapsed": true
   },
   "outputs": [],
   "source": [
    "d = pd.read_csv(\"data3a.csv\", encoding = \"utf-8\")"
   ]
  },
  {
   "cell_type": "code",
   "execution_count": 4,
   "metadata": {
    "collapsed": false
   },
   "outputs": [
    {
     "data": {
      "text/html": [
       "<div>\n",
       "<table border=\"1\" class=\"dataframe\">\n",
       "  <thead>\n",
       "    <tr style=\"text-align: right;\">\n",
       "      <th></th>\n",
       "      <th>y</th>\n",
       "      <th>x</th>\n",
       "      <th>f</th>\n",
       "    </tr>\n",
       "  </thead>\n",
       "  <tbody>\n",
       "    <tr>\n",
       "      <th>0</th>\n",
       "      <td>6</td>\n",
       "      <td>8.31</td>\n",
       "      <td>C</td>\n",
       "    </tr>\n",
       "    <tr>\n",
       "      <th>1</th>\n",
       "      <td>6</td>\n",
       "      <td>9.44</td>\n",
       "      <td>C</td>\n",
       "    </tr>\n",
       "    <tr>\n",
       "      <th>2</th>\n",
       "      <td>6</td>\n",
       "      <td>9.50</td>\n",
       "      <td>C</td>\n",
       "    </tr>\n",
       "    <tr>\n",
       "      <th>3</th>\n",
       "      <td>12</td>\n",
       "      <td>9.07</td>\n",
       "      <td>C</td>\n",
       "    </tr>\n",
       "    <tr>\n",
       "      <th>4</th>\n",
       "      <td>10</td>\n",
       "      <td>10.16</td>\n",
       "      <td>C</td>\n",
       "    </tr>\n",
       "  </tbody>\n",
       "</table>\n",
       "</div>"
      ],
      "text/plain": [
       "    y      x  f\n",
       "0   6   8.31  C\n",
       "1   6   9.44  C\n",
       "2   6   9.50  C\n",
       "3  12   9.07  C\n",
       "4  10  10.16  C"
      ]
     },
     "execution_count": 4,
     "metadata": {},
     "output_type": "execute_result"
    }
   ],
   "source": [
    "d.head()"
   ]
  },
  {
   "cell_type": "code",
   "execution_count": 27,
   "metadata": {
    "collapsed": false
   },
   "outputs": [
    {
     "name": "stderr",
     "output_type": "stream",
     "text": [
      "/Users/yuki.ohnishi/.pyenv/versions/analysis/lib/python3.5/site-packages/ipykernel/__main__.py:7: FutureWarning: by argument to sort_index is deprecated, pls use .sort_values(by=...)\n",
      "/Users/yuki.ohnishi/.pyenv/versions/analysis/lib/python3.5/site-packages/ipykernel/__main__.py:20: FutureWarning: by argument to sort_index is deprecated, pls use .sort_values(by=...)\n"
     ]
    },
    {
     "data": {
      "text/plain": [
       "<matplotlib.axes._subplots.AxesSubplot at 0x1096e9b70>"
      ]
     },
     "execution_count": 27,
     "metadata": {},
     "output_type": "execute_result"
    },
    {
     "data": {
      "image/png": "[encoded data removed]",
      "text/plain": [
       "<matplotlib.figure.Figure at 0x108b10668>"
      ]
     },
     "metadata": {},
     "output_type": "display_data"
    }
   ],
   "source": [
    "fig, axe = plt.subplots(1, 2, sharey=True, sharex=True, figsize=(10, 5))\n",
    "ax0 = axe[0]\n",
    "d.plot.scatter(x=\"x\", y=\"y\", ax=ax0)\n",
    "y, X = dmatrices('y ~ 1', data=d, return_type='dataframe')\n",
    "fit = GLM(y, X, family=Poisson()).fit()\n",
    "d['k=1'] = fit.predict(X)\n",
    "d.sort_index(by='x').plot.line(x='x', y='k=1', ax=ax0)\n",
    "\n",
    "## \n",
    "ax1 = axe[1]\n",
    "d.plot.scatter(x=\"x\", y=\"y\", ax=ax1)\n",
    "formula = 'y~'\n",
    "for i in range(1, 7):\n",
    "    formula += '+np.power(x,%d)' % i\n",
    "y, X = dmatrices(formula, data=d, return_type='dataframe')\n",
    "fit = GLM(y, X, family=Poisson()).fit()\n",
    "dd = pd.DataFrame({'x': np.arange(d.x.min(), d.x.max(), 0.01)})\n",
    "xx = dmatrix(formula[2:], data=dd, return_type='dataframe')\n",
    "dd['k=7'] = fit.predict(xx)\n",
    "dd.sort_index(by='x').plot.line(x='x', y='k=7', ax=ax1)"
   ]
  },
  {
   "cell_type": "code",
   "execution_count": 29,
   "metadata": {
    "collapsed": false
   },
   "outputs": [
    {
     "data": {
      "text/plain": [
       "(-192.8897525244958, -237.64322130928673)"
      ]
     },
     "execution_count": 29,
     "metadata": {},
     "output_type": "execute_result"
    }
   ],
   "source": [
    "d = pd.read_csv('data3a.csv')\n",
    "log_lik_full = sum(poisson.logpmf(d.y, d.y))\n",
    "\n",
    "# Null model\n",
    "y, X = dmatrices('y~1', data=d, return_type='dataframe')\n",
    "fit_null = GLM(y, X, family=Poisson()).fit()\n",
    "log_lik_null = fit_null.llf\n",
    "\n",
    "(log_lik_full, log_lik_null)\n"
   ]
  },
  {
   "cell_type": "code",
   "execution_count": 36,
   "metadata": {
    "collapsed": false
   },
   "outputs": [
    {
     "data": {
      "text/plain": [
       "-235.38625076986079"
      ]
     },
     "execution_count": 36,
     "metadata": {},
     "output_type": "execute_result"
    }
   ],
   "source": [
    "# x model\n",
    "y, X = dmatrices('y~x', data=d, return_type='dataframe')\n",
    "fit_x = GLM(y, X, family=Poisson()).fit()\n",
    "fit_x.llf"
   ]
  },
  {
   "cell_type": "code",
   "execution_count": 37,
   "metadata": {
    "collapsed": false
   },
   "outputs": [
    {
     "data": {
      "text/plain": [
       "-237.62725696068685"
      ]
     },
     "execution_count": 37,
     "metadata": {},
     "output_type": "execute_result"
    }
   ],
   "source": [
    "# f model\n",
    "y, X = dmatrices('y~f', data=d, return_type='dataframe')\n",
    "fit_f = GLM(y, X, family=Poisson()).fit()\n",
    "fit_f.llf"
   ]
  },
  {
   "cell_type": "code",
   "execution_count": 38,
   "metadata": {
    "collapsed": false
   },
   "outputs": [
    {
     "data": {
      "text/plain": [
       "-235.29371924249369"
      ]
     },
     "execution_count": 38,
     "metadata": {},
     "output_type": "execute_result"
    }
   ],
   "source": [
    "y, X = dmatrices('y~x+f', data=d, return_type='dataframe')\n",
    "fit_x_f = GLM(y, X, family=Poisson()).fit()\n",
    "fit_x_f.llf"
   ]
  },
  {
   "cell_type": "code",
   "execution_count": null,
   "metadata": {
    "collapsed": true
   },
   "outputs": [],
   "source": []
  }
 ],
 "metadata": {
  "kernelspec": {
   "display_name": "Python 3",
   "language": "python",
   "name": "python3"
  },
  "language_info": {
   "codemirror_mode": {
    "name": "ipython",
    "version": 3
   },
   "file_extension": ".py",
   "mimetype": "text/x-python",
   "name": "python",
   "nbconvert_exporter": "python",
   "pygments_lexer": "ipython3",
   "version": "3.5.0"
  }
 },
 "nbformat": 4,
 "nbformat_minor": 0
}
